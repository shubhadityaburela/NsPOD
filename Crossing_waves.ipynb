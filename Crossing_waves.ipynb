{
 "cells": [
  {
   "cell_type": "code",
   "execution_count": 1,
   "id": "6963bf93-a774-4b7f-b0b4-1ee1ca85e16b",
   "metadata": {},
   "outputs": [],
   "source": [
    "import torch\n",
    "import torch.nn as nn\n",
    "import torch.nn.functional as F\n",
    "from numpy import meshgrid\n",
    "import torch.optim as optim\n",
    "from torch.utils.data import TensorDataset, DataLoader, Dataset\n",
    "from torch.autograd import gradcheck\n",
    "from numpy import exp, mod, meshgrid, cos, sin, exp, pi\n",
    "import numpy as np\n",
    "import matplotlib.pyplot as plt\n",
    "from scipy.ndimage import shift\n",
    "from math import sqrt\n",
    "from scipy.sparse import diags\n",
    "from scipy.linalg import cholesky\n",
    "\n",
    "import os\n",
    "impath = \"./data/crossing_waves_sine_amplitude/mac/\"\n",
    "immpath = \"./plots/crossing_waves_sine_amplitude/mac/\"\n",
    "os.makedirs(impath, exist_ok=True)\n",
    "os.makedirs(immpath, exist_ok=True)"
   ]
  },
  {
   "cell_type": "markdown",
   "id": "c06a92b5",
   "metadata": {},
   "source": [
    "# Crossing waves example"
   ]
  },
  {
   "cell_type": "markdown",
   "id": "ad91d999-b9a0-4eb1-87a5-f83d4a535ff3",
   "metadata": {},
   "source": [
    "## Create data for example model"
   ]
  },
  {
   "cell_type": "code",
   "execution_count": 2,
   "id": "091a766a-2477-40bd-8256-2becd7e3f685",
   "metadata": {},
   "outputs": [],
   "source": [
    "Nx, Nt, sigma = 400, 200, 4.0\n",
    "coefficients1 = [0.15,0,0.8,1.5]\n",
    "coefficients2 = [-18,2]\n",
    "seed = 54\n",
    "center_matrix3 = 200"
   ]
  },
  {
   "cell_type": "code",
   "execution_count": 3,
   "id": "beaa849e-2253-4409-a4a7-74dfd079ff4b",
   "metadata": {},
   "outputs": [],
   "source": [
    "np.random.seed(seed)"
   ]
  },
  {
   "cell_type": "code",
   "execution_count": 4,
   "id": "16fa4e08-6af1-4be7-afdf-342abbd873b6",
   "metadata": {},
   "outputs": [],
   "source": [
    "def generate_data(Nx, Nt, coeff1, coeff2, center1, center2, sigma_slope=0.1, sigma_base=4.0):\n",
    "    sigma = 5.0\n",
    "    x = np.arange(0, Nx)\n",
    "    t = np.linspace(-10,10, Nt)\n",
    "    t_max = np.max(t)\n",
    "    [X, T] = np.meshgrid(x, t)\n",
    "    X = X.T\n",
    "    T = T.T    \n",
    "\n",
    "    def gaussian(x, mu, sigma=1.0):\n",
    "        return np.exp(-np.power(x - mu, 2.0) / (2 * np.power(sigma, 2.0)))\n",
    "\n",
    "    q1 = np.zeros_like(X, dtype=np.float64)\n",
    "    q2 = np.zeros_like(X, dtype=np.float64)\n",
    "    shift1 = np.polyval(coeff1, t)\n",
    "    shift2 = np.polyval(coeff2, t)\n",
    "    for col in range(Nt):\n",
    "        sigma_t = sigma_base \n",
    "        for row in range(Nx):\n",
    "            q1[row, col] = sin(pi * t[col] / t_max) * gaussian(row, center1 + shift1[col], sigma_t)\n",
    "            q2[row, col] = cos(pi * t[col] / t_max) * gaussian(row, center2 + shift2[col], sigma_t)\n",
    "    \n",
    "    Q = q1 + q2\n",
    "    Q /= Q.max()\n",
    "    \n",
    "    return Q, x, t"
   ]
  },
  {
   "cell_type": "code",
   "execution_count": 5,
   "id": "d97099bc-9e3e-4705-b76a-83fa0a616335",
   "metadata": {},
   "outputs": [],
   "source": [
    "Q,x,t = generate_data(Nx, Nt, coefficients1, coefficients2, center_matrix3, center_matrix3, sigma_base=sigma)"
   ]
  },
  {
   "cell_type": "code",
   "execution_count": 6,
   "id": "2e01f6fc-d3ea-432f-89df-e93dc70665bd",
   "metadata": {},
   "outputs": [
    {
     "data": {
      "image/png": "[encoded data removed]",
      "text/plain": [
       "<Figure size 432x288 with 2 Axes>"
      ]
     },
     "metadata": {
      "needs_background": "light"
     },
     "output_type": "display_data"
    }
   ],
   "source": [
    "X, T = np.meshgrid(x, t)\n",
    "\n",
    "plt.pcolormesh(X.T, T.T, Q)\n",
    "plt.colorbar()\n",
    "plt.xlabel('Position ($x_i$)')\n",
    "plt.ylabel('Time ($t_j$)')\n",
    "plt.title('Snapshot Matrix Q')\n",
    "plt.show()\n",
    "\n",
    "\n",
    "\n",
    "# ax = plt.axes(projection='3d')\n",
    "# ax.plot_surface(X.T, T.T, Q, rstride=1, cstride=1, cmap='viridis', edgecolor='none')\n",
    "# plt.show()"
   ]
  },
  {
   "cell_type": "markdown",
   "id": "fa9deb0f-c6ed-4cfc-a618-34dcd83258d6",
   "metadata": {},
   "source": [
    "## Define inputs"
   ]
  },
  {
   "cell_type": "code",
   "execution_count": 7,
   "id": "50e2b140-5375-408f-8558-322cdf889543",
   "metadata": {},
   "outputs": [
    {
     "data": {
      "text/plain": [
       "<torch._C.Generator at 0x108c0f410>"
      ]
     },
     "execution_count": 7,
     "metadata": {},
     "output_type": "execute_result"
    }
   ],
   "source": [
    "np.random.seed(seed)\n",
    "torch.manual_seed(seed)"
   ]
  },
  {
   "cell_type": "code",
   "execution_count": 8,
   "id": "f5a7ffe7-d523-4462-aa17-128d9c6d5181",
   "metadata": {
    "tags": []
   },
   "outputs": [],
   "source": [
    "inputs = np.stack([x.repeat(Nt), np.tile(t, Nx)], axis=1)\n",
    "targets = Q.flatten()\n",
    "\n",
    "inputs_tensor = torch.tensor(inputs, dtype=torch.float32)\n",
    "targets_tensor = torch.tensor(targets, dtype=torch.float32)\n",
    "\n",
    "dataset = TensorDataset(inputs_tensor, targets_tensor)\n",
    "data_loader = DataLoader(dataset, batch_size=64, shuffle=True)\n"
   ]
  },
  {
   "cell_type": "markdown",
   "id": "fc760045-a001-4f52-aa11-9ba6604714c6",
   "metadata": {},
   "source": [
    "## Define a model"
   ]
  },
  {
   "cell_type": "code",
   "execution_count": 9,
   "id": "bf5b954e-d310-4638-a310-0013326f60d2",
   "metadata": {},
   "outputs": [],
   "source": [
    "class NuclearNormAutograd(torch.autograd.Function):\n",
    "    @staticmethod\n",
    "    def forward(ctx, input_matrix):\n",
    "        ctx.save_for_backward(input_matrix)\n",
    "        return torch.linalg.matrix_norm(input_matrix, ord=\"nuc\")\n",
    "\n",
    "    @staticmethod\n",
    "    def backward(ctx, grad_output):\n",
    "        input_matrix, = ctx.saved_tensors\n",
    "        u, s, v = torch.svd(input_matrix, some=False)\n",
    "        rank = torch.sum(s > 0).item()\n",
    "        dtype = input_matrix.dtype\n",
    "        eye_approx = torch.diag((s > 0).to(dtype)[:rank])\n",
    "        grad_input = torch.matmul(torch.matmul(u[:, :rank], eye_approx), v[:, :rank].t())\n",
    "        return grad_input * grad_output.unsqueeze(-1).unsqueeze(-1)"
   ]
  },
  {
   "cell_type": "code",
   "execution_count": 10,
   "id": "d18bf8b6-4e12-449f-bf1a-eb8fa332dafc",
   "metadata": {},
   "outputs": [],
   "source": [
    "class ShapeShiftNet(nn.Module):\n",
    "    def __init__(self, p_init_coeffs1, p_init_coeffs2):\n",
    "        super(ShapeShiftNet, self).__init__()\n",
    "        \n",
    "        self.alphas1 = nn.ParameterList(\n",
    "            [nn.Parameter(torch.tensor([coeff], dtype=torch.float32), requires_grad=True) for coeff in p_init_coeffs1]\n",
    "        )\n",
    "        self.alphas2 = nn.ParameterList(\n",
    "            [nn.Parameter(torch.tensor([coeff], dtype=torch.float32), requires_grad=True) for coeff in p_init_coeffs2]\n",
    "        )\n",
    "        self.elu = nn.ELU()\n",
    "        \n",
    "        # Subnetwork for f^1 and shift^1\n",
    "        self.f1_fc1 = nn.Linear(2, 5)\n",
    "        self.f1_fc2 = nn.Linear(5, 10)\n",
    "        self.f1_fc3 = nn.Linear(10, 5)\n",
    "        self.f1_fc4 = nn.Linear(5, 1)\n",
    "\n",
    "        # Subnetwork for f^2 and shift^2\n",
    "        self.f2_fc1 = nn.Linear(2, 5)\n",
    "        self.f2_fc2 = nn.Linear(5, 10)\n",
    "        self.f2_fc3 = nn.Linear(10, 5)\n",
    "        self.f2_fc4 = nn.Linear(5, 1)\n",
    "\n",
    "        \n",
    "    def forward(self, x, t):\n",
    "        # Pathway for f^1 and shift^1\n",
    "        shift1 = sum([coeff * t**(3-i) for i, coeff in enumerate(self.alphas1)])\n",
    "\n",
    "        x_shifted1 = x + shift1\n",
    "        f1 = self.elu(self.f1_fc1(torch.cat((x_shifted1, t), dim=1)))\n",
    "        f1 = self.elu(self.f1_fc2(f1))\n",
    "        f1 = self.elu(self.f1_fc3(f1))\n",
    "        f1 = self.f1_fc4(f1)\n",
    "        \n",
    "        f1_without_shift = self.elu(self.f1_fc1(torch.cat((x, t), dim=1)))\n",
    "        f1_without_shift = self.elu(self.f1_fc2(f1_without_shift))\n",
    "        f1_without_shift = self.elu(self.f1_fc3(f1_without_shift))\n",
    "        f1_without_shift = self.f1_fc4(f1_without_shift)\n",
    "        \n",
    "        \n",
    "        # Pathway for f^2 and shift^2\n",
    "        shift2 = sum([coeff * t**(1-i) for i, coeff in enumerate(self.alphas2)])\n",
    "\n",
    "        x_shifted2 = x + shift2\n",
    "        f2 = self.elu(self.f2_fc1(torch.cat((x_shifted2, t), dim=1)))\n",
    "        f2 = self.elu(self.f2_fc2(f2))\n",
    "        f2 = self.elu(self.f2_fc3(f2))\n",
    "        f2 = self.f2_fc4(f2)\n",
    "        \n",
    "        f2_without_shift = self.elu(self.f2_fc1(torch.cat((x, t), dim=1)))\n",
    "        f2_without_shift = self.elu(self.f2_fc2(f2_without_shift))\n",
    "        f2_without_shift = self.elu(self.f2_fc3(f2_without_shift))\n",
    "        f2_without_shift = self.f2_fc4(f2_without_shift)\n",
    "        \n",
    "        return f1, f2, shift1, shift2, f1_without_shift, f2_without_shift"
   ]
  },
  {
   "cell_type": "code",
   "execution_count": 11,
   "id": "13afcde1-e930-4491-a80c-6adc05deec78",
   "metadata": {},
   "outputs": [],
   "source": [
    "init_coefficients1 = [0.01, 0, 1, 1]\n",
    "init_coefficients2 = [-1, 1]"
   ]
  },
  {
   "cell_type": "code",
   "execution_count": 12,
   "id": "efb55892-854b-44de-b6fa-0160443e759c",
   "metadata": {},
   "outputs": [],
   "source": [
    "model = ShapeShiftNet(init_coefficients1, init_coefficients2)\n",
    "\n",
    "\n",
    "pretrained_load = True\n",
    "if pretrained_load:\n",
    "    state_dict_original = torch.load(\"./data/crossing_waves_sine_amplitude/seed=54/model_weights_crossing_sine_waves.pth\")\n",
    "    state_dict_new = model.state_dict()\n",
    "    \n",
    "    for name, param in state_dict_original.items():\n",
    "        if name in state_dict_new:\n",
    "            state_dict_new[name].copy_(param)\n",
    "    \n",
    "    \n",
    "model.load_state_dict(state_dict_new, strict=False)\n",
    "\n",
    "\n",
    "torch.manual_seed(seed)\n",
    "optimizer = optim.Adam(model.parameters(), lr=0.001)"
   ]
  },
  {
   "cell_type": "code",
   "execution_count": 13,
   "id": "c86c23ae-e019-4d4c-b157-dca495edd50e",
   "metadata": {},
   "outputs": [],
   "source": [
    "Q_tensor = torch.tensor(Q)"
   ]
  },
  {
   "cell_type": "code",
   "execution_count": 31,
   "id": "3011e406-ac3c-475f-b6c9-25295f2c845a",
   "metadata": {
    "scrolled": true,
    "tags": []
   },
   "outputs": [
    {
     "name": "stdout",
     "output_type": "stream",
     "text": [
      "Epoch 0/500, Frob Loss: 1.334194432049902, Nuclear Loss: 27.105756759643555, Total loss: 28.439951191693456,Coefficients_1:[0.15, 0, 0.8, 1.5]tensor([-1.4801e-01, -8.7830e-04, -8.7906e-01, -2.4328e+01]), Coefficients_2:[-18, 2]tensor([ 18.0028, -69.0430])\n",
      "Epoch 100/500, Frob Loss: 1.3418975213485695, Nuclear Loss: 27.082286834716797, Total loss: 28.424184356065368,Coefficients_1:[0.15, 0, 0.8, 1.5]tensor([-1.4807e-01, -8.4251e-04, -8.7631e-01, -2.4328e+01]), Coefficients_2:[-18, 2]tensor([ 18.0027, -69.0423])\n",
      "Epoch 200/500, Frob Loss: 1.3484598300938835, Nuclear Loss: 27.061399459838867, Total loss: 28.40985928993275,Coefficients_1:[0.15, 0, 0.8, 1.5]tensor([-1.4812e-01, -8.2929e-04, -8.7390e-01, -2.4328e+01]), Coefficients_2:[-18, 2]tensor([ 18.0027, -69.0413])\n",
      "Epoch 300/500, Frob Loss: 1.3548873160122945, Nuclear Loss: 27.04169273376465, Total loss: 28.396580049776944,Coefficients_1:[0.15, 0, 0.8, 1.5]tensor([-1.4817e-01, -8.3398e-04, -8.7175e-01, -2.4328e+01]), Coefficients_2:[-18, 2]tensor([ 18.0027, -69.0398])\n",
      "Epoch 400/500, Frob Loss: 1.360556374859455, Nuclear Loss: 27.023601531982422, Total loss: 28.384157906841878,Coefficients_1:[0.15, 0, 0.8, 1.5]tensor([-1.4821e-01, -8.5055e-04, -8.6979e-01, -2.4329e+01]), Coefficients_2:[-18, 2]tensor([ 18.0027, -69.0383])\n",
      "Epoch 500/500, Frob Loss: 1.4277108647258308, Nuclear Loss: 27.004962921142578, Total loss: 28.43267378586841,Coefficients_1:[0.15, 0, 0.8, 1.5]tensor([-1.4825e-01, -9.7197e-04, -8.6838e-01, -2.4329e+01]), Coefficients_2:[-18, 2]tensor([ 18.0028, -69.0368])\n"
     ]
    }
   ],
   "source": [
    "num_epochs = 500\n",
    "lambda_k = 0.5\n",
    "\n",
    "for epoch in range(num_epochs + 1):\n",
    "    x_flat, t_flat = inputs_tensor[:, 0:1], inputs_tensor[:, 1:2]\n",
    "    optimizer.zero_grad()\n",
    "    f1_full, f2_full, shift1_pred, shift2_pred, f1_full_nos, f2_full_nos = model(x_flat, t_flat)\n",
    "    \n",
    "    frobenius_loss = torch.norm(Q_tensor - f1_full.view(Nx, Nt) - f2_full.view(Nx, Nt), 'fro') ** 2\n",
    "    \n",
    "    nuclear_loss_q1 = NuclearNormAutograd.apply(f1_full_nos.view(Nx, Nt))\n",
    "    nuclear_loss_q2 = NuclearNormAutograd.apply(f2_full_nos.view(Nx, Nt))\n",
    "    nuclear_loss = lambda_k*(nuclear_loss_q1 + nuclear_loss_q2)\n",
    "    \n",
    "    total_loss = frobenius_loss + nuclear_loss\n",
    "\n",
    "    total_loss.backward(retain_graph=True)\n",
    "    optimizer.step()\n",
    "    \n",
    "    shift_coeffs1 = torch.tensor([p.item() for p in model.alphas1])\n",
    "    shift_coeffs2 = torch.tensor([p.item() for p in model.alphas2])\n",
    "\n",
    "    if frobenius_loss < 1:\n",
    "        print(\"Early stopping is triggered\")\n",
    "        break\n",
    "    \n",
    "    if epoch % 100 == 0:\n",
    "        print(\n",
    "            f'Epoch {epoch}/{num_epochs}, Frob Loss: {frobenius_loss.item()}, Nuclear Loss: {nuclear_loss.item()}, Total loss: {total_loss.item()},'\n",
    "            f'Coefficients_1:{[coefficients1[i] for i in range(len(coefficients1))]}{shift_coeffs1}, Coefficients_2:{[coefficients2[i] for i in range(len(coefficients2))]}{shift_coeffs2}')"
   ]
  },
  {
   "cell_type": "code",
   "execution_count": 15,
   "id": "4f62484c-890c-4ca4-9b1b-d99a33eedc44",
   "metadata": {},
   "outputs": [],
   "source": [
    "combined = f1_full + f2_full\n",
    "Q_tilde = combined.view(Nx, Nt).detach().numpy()"
   ]
  },
  {
   "cell_type": "code",
   "execution_count": 16,
   "id": "c2e24626-8eb2-4aa1-86e6-ece12bf68b3e",
   "metadata": {},
   "outputs": [
    {
     "data": {
      "text/plain": [
       "<matplotlib.colorbar.Colorbar at 0x14d7f9820>"
      ]
     },
     "execution_count": 16,
     "metadata": {},
     "output_type": "execute_result"
    },
    {
     "data": {
      "image/png": "[encoded data removed]",
      "text/plain": [
       "<Figure size 1440x432 with 7 Axes>"
      ]
     },
     "metadata": {
      "needs_background": "light"
     },
     "output_type": "display_data"
    }
   ],
   "source": [
    "fig, axs = plt.subplots(1, 6, figsize=(20, 6))\n",
    "vmin = np.min(Q)\n",
    "vmax = np.max(Q)\n",
    "\n",
    "axs[0].pcolormesh(X.T, T.T, Q, vmin=vmin, vmax=vmax)\n",
    "axs[0].set_title(r\"${\\mathbf{Q}}$\")\n",
    "axs[0].set_xlabel(\"x\")\n",
    "axs[0].set_ylabel(\"t\")\n",
    "axs[0].set_xticks([])\n",
    "axs[0].set_yticks([])\n",
    "\n",
    "#Qtilde\n",
    "axs[1].pcolormesh(X.T, T.T, Q_tilde, vmin=vmin, vmax=vmax)\n",
    "axs[1].set_title(r\"$\\tilde{\\mathbf{Q}}$\")\n",
    "axs[1].set_xlabel(\"x\")\n",
    "axs[1].set_ylabel(\"t\")\n",
    "axs[1].set_xticks([])\n",
    "axs[1].set_yticks([])\n",
    "\n",
    "# f^1\n",
    "axs[2].pcolormesh(X.T, T.T, f1_full.view(Nx, Nt).detach().numpy(), vmin=vmin)\n",
    "axs[2].set_title(r\"$\\mathcal{T}^1\\mathbf{Q}^1$\")\n",
    "axs[2].set_xlabel(\"x\")\n",
    "axs[2].set_ylabel(\"t\")\n",
    "axs[2].set_xticks([])\n",
    "axs[2].set_yticks([])\n",
    "\n",
    "# f^2\n",
    "axs[3].pcolormesh(X.T, T.T, f2_full.view(Nx,Nt).detach().numpy(), vmin=vmin, vmax=vmax)\n",
    "axs[3].set_title(r\"$\\mathcal{T}^2\\mathbf{Q}^2$\")\n",
    "axs[3].set_xlabel(\"x\")\n",
    "axs[3].set_ylabel(\"t\")\n",
    "axs[3].set_xticks([])\n",
    "axs[3].set_yticks([])\n",
    "\n",
    "# f^1\n",
    "axs[4].pcolormesh(X.T, T.T, f1_full_nos.view(Nx,Nt).detach().numpy(), vmin=vmin, vmax=vmax)\n",
    "axs[4].set_title(r\"$\\mathbf{Q}^1$\")\n",
    "axs[4].set_xlabel(\"x\")\n",
    "axs[4].set_ylabel(\"t\")\n",
    "axs[4].set_xticks([])\n",
    "axs[4].set_yticks([])\n",
    "\n",
    "# f^2\n",
    "cax4 = axs[5].pcolormesh(X.T, T.T, f2_full_nos.view(Nx,Nt).detach().numpy(), vmin=vmin, vmax=vmax)\n",
    "axs[5].set_title(r\"$\\mathbf{Q}^2$\")\n",
    "axs[5].set_xlabel(\"x\")\n",
    "axs[5].set_ylabel(\"t\")\n",
    "axs[5].set_xticks([])\n",
    "axs[5].set_yticks([])\n",
    "\n",
    "plt.colorbar(cax4, ax=axs.ravel().tolist(), orientation='vertical')"
   ]
  },
  {
   "cell_type": "code",
   "execution_count": 17,
   "id": "a4ce92f3",
   "metadata": {},
   "outputs": [],
   "source": [
    "fig.savefig(immpath + \"NN-prediction\", dpi=300, transparent=True)\n"
   ]
  },
  {
   "cell_type": "code",
   "execution_count": 18,
   "id": "2b947928",
   "metadata": {},
   "outputs": [],
   "source": [
    "def save_fig(filepath, figure=None, **kwargs):\n",
    "    import tikzplotlib\n",
    "    import os\n",
    "    import matplotlib.pyplot as plt\n",
    "\n",
    "    ## split extension\n",
    "    fpath = os.path.splitext(filepath)[0]\n",
    "    ## get figure handle\n",
    "    if figure is None:\n",
    "        figure = plt.gcf()\n",
    "    figure.savefig(fpath + \".png\", dpi=300, transparent=True)\n",
    "    tikzplotlib.save(\n",
    "        figure=figure,\n",
    "        filepath=fpath + \".tex\",\n",
    "        axis_height='\\\\figureheight',\n",
    "        axis_width='\\\\figurewidth',\n",
    "        override_externals=True,\n",
    "        **kwargs\n",
    "    )"
   ]
  },
  {
   "cell_type": "code",
   "execution_count": 19,
   "id": "0a70e0e3",
   "metadata": {},
   "outputs": [],
   "source": [
    "save_fig(filepath=immpath + \"crossing_waves_sine_amplitude\", figure=fig)"
   ]
  },
  {
   "cell_type": "markdown",
   "id": "6cfde215",
   "metadata": {},
   "source": [
    "## Saving the results"
   ]
  },
  {
   "cell_type": "code",
   "execution_count": 20,
   "id": "5d9bcdbe",
   "metadata": {},
   "outputs": [],
   "source": [
    "torch.save(model.state_dict(), impath + 'model_weights_crossing_sine_waves.pth')\n",
    "np.save(impath + 'Q.npy', Q)\n",
    "np.save(impath + 'Q_tilde.npy', Q_tilde)\n",
    "np.save(impath + 'T1Q1.npy', f1_full.view(Nx, Nt).detach().numpy())\n",
    "np.save(impath + 'T2Q2.npy', f2_full.view(Nx, Nt).detach().numpy())\n",
    "np.save(impath + 'Q1.npy', f1_full_nos.view(Nx, Nt).detach().numpy())\n",
    "np.save(impath + 'Q2.npy', f2_full_nos.view(Nx, Nt).detach().numpy())\n",
    "np.save(impath + 'shifts1.npy', shift_coeffs1.detach().numpy()) \n",
    "np.save(impath + 'shifts2.npy', shift_coeffs2.detach().numpy()) "
   ]
  },
  {
   "cell_type": "markdown",
   "id": "946b34a9",
   "metadata": {},
   "source": [
    "# Apply rsPOD taking the results from the above as initial guesses\n"
   ]
  },
  {
   "cell_type": "code",
   "execution_count": 21,
   "id": "e57180ee",
   "metadata": {},
   "outputs": [],
   "source": [
    "import sys\n",
    "\n",
    "sys.path.append(\"../sPOD/lib/\")\n",
    "\n",
    "import numpy as np\n",
    "from numpy import meshgrid\n",
    "import matplotlib.pyplot as plt\n",
    "from sPOD_algo import (\n",
    "    shifted_POD,\n",
    "    sPOD_Param,\n",
    "    give_interpolation_error,\n",
    ")\n",
    "from transforms import Transform\n",
    "from plot_utils import save_fig"
   ]
  },
  {
   "cell_type": "code",
   "execution_count": 22,
   "id": "4dd80548",
   "metadata": {},
   "outputs": [],
   "source": [
    "# Load the data\n",
    "Q = np.load(impath + 'Q.npy')\n",
    "Q_tilde = np.load(impath + 'Q_tilde.npy')\n",
    "T1Q1 = np.load(impath + 'T1Q1.npy')\n",
    "T2Q2 = np.load(impath + 'T2Q2.npy')\n",
    "Q1 = np.load(impath + 'Q1.npy')\n",
    "Q2 = np.load(impath + 'Q2.npy')\n",
    "shifts1 = np.load(impath + 'shifts1.npy')\n",
    "shifts2 = np.load(impath + 'shifts2.npy') "
   ]
  },
  {
   "cell_type": "code",
   "execution_count": 23,
   "id": "98245b13",
   "metadata": {},
   "outputs": [
    {
     "name": "stdout",
     "output_type": "stream",
     "text": [
      "NN prediction error: 3.19e-02 \n"
     ]
    }
   ],
   "source": [
    "err = np.linalg.norm(Q - Q_tilde) / np.linalg.norm(Q)\n",
    "print(\"NN prediction error: %1.2e \" % err)"
   ]
  },
  {
   "cell_type": "code",
   "execution_count": 24,
   "id": "15f08396",
   "metadata": {},
   "outputs": [
    {
     "name": "stdout",
     "output_type": "stream",
     "text": [
      "Setting up the shift matrices, with interpolation order:\n",
      "Forward T^k:     O(h^5)\n",
      "Backward T^(-k): O(h^5)\n",
      "Setting up the shift matrices, with interpolation order:\n",
      "Forward T^k:     O(h^5)\n",
      "Backward T^(-k): O(h^5)\n",
      "interpolation error: 8.80e-02 \n"
     ]
    }
   ],
   "source": [
    "# Prepare the transformations\n",
    "L = x[-1]\n",
    "dx = x[1] - x[0]\n",
    "s1 = np.polyval(shifts1, t)\n",
    "s2 = np.polyval(shifts2, t)\n",
    "\n",
    "data_shape = [Nx, 1, 1, Nt]\n",
    "transfos = [\n",
    "    Transform(data_shape, [L], shifts=s1, dx=[dx], interp_order=5),\n",
    "    Transform(data_shape, [L], shifts=s2, dx=[dx], interp_order=5),\n",
    "]\n",
    "\n",
    "interp_err = np.max([give_interpolation_error(Q, trafo) for trafo in transfos])\n",
    "print(\"interpolation error: %1.2e \" % interp_err)"
   ]
  },
  {
   "cell_type": "code",
   "execution_count": 25,
   "id": "0b986be7",
   "metadata": {},
   "outputs": [],
   "source": [
    "METHOD = \"ALM\"\n",
    "\n",
    "# Parameters\n",
    "mu0 = Nx * Nt / (4 * np.sum(np.abs(Q))) * 0.002\n",
    "lambd0 = 1 / np.sqrt(np.maximum(Nx, Nt))\n",
    "myparams = sPOD_Param()\n",
    "myparams.maxit = 28\n",
    "param_alm = None"
   ]
  },
  {
   "cell_type": "code",
   "execution_count": 26,
   "id": "e6905916",
   "metadata": {
    "scrolled": false
   },
   "outputs": [
    {
     "name": "stdout",
     "output_type": "stream",
     "text": [
      "Iter    1 / 28 | Rel_err= 1.0000e+00 | norm(dres) = 1.6e-02 | norm(Q-Qtilde)/norm(Q) = 1.00e+00 | t_cpu = 0.00s | ranks_frame =  0 0\n",
      "Iter    2 / 28 | Rel_err= 1.0000e+00 | norm(dres) = 0.0e+00 | norm(Q-Qtilde)/norm(Q) = 1.00e+00 | t_cpu = 0.00s | ranks_frame =  0 0\n",
      "Iter    3 / 28 | Rel_err= 3.9738e-01 | norm(dres) = 9.9e-03 | norm(Q-Qtilde)/norm(Q) = 3.97e-01 | t_cpu = 0.00s | ranks_frame =  1 1\n",
      "Iter    4 / 28 | Rel_err= 1.8494e-01 | norm(dres) = 3.5e-03 | norm(Q-Qtilde)/norm(Q) = 1.85e-01 | t_cpu = 0.00s | ranks_frame =  1 1\n",
      "Iter    5 / 28 | Rel_err= 1.4062e-01 | norm(dres) = 7.3e-04 | norm(Q-Qtilde)/norm(Q) = 1.41e-01 | t_cpu = 0.00s | ranks_frame =  1 1\n",
      "Iter    6 / 28 | Rel_err= 1.1636e-01 | norm(dres) = 4.0e-04 | norm(Q-Qtilde)/norm(Q) = 1.16e-01 | t_cpu = 0.00s | ranks_frame =  1 1\n",
      "Iter    7 / 28 | Rel_err= 1.0100e-01 | norm(dres) = 2.5e-04 | norm(Q-Qtilde)/norm(Q) = 1.01e-01 | t_cpu = 0.00s | ranks_frame =  1 1\n",
      "Iter    8 / 28 | Rel_err= 9.1971e-02 | norm(dres) = 1.5e-04 | norm(Q-Qtilde)/norm(Q) = 9.20e-02 | t_cpu = 0.00s | ranks_frame =  1 1\n",
      "Iter    9 / 28 | Rel_err= 8.6801e-02 | norm(dres) = 8.5e-05 | norm(Q-Qtilde)/norm(Q) = 8.68e-02 | t_cpu = 0.00s | ranks_frame =  1 1\n",
      "Iter   10 / 28 | Rel_err= 8.3824e-02 | norm(dres) = 4.9e-05 | norm(Q-Qtilde)/norm(Q) = 8.38e-02 | t_cpu = 0.00s | ranks_frame =  1 1\n",
      "Iter   11 / 28 | Rel_err= 8.2051e-02 | norm(dres) = 2.9e-05 | norm(Q-Qtilde)/norm(Q) = 8.21e-02 | t_cpu = 0.00s | ranks_frame =  1 1\n",
      "Iter   12 / 28 | Rel_err= 8.0939e-02 | norm(dres) = 1.8e-05 | norm(Q-Qtilde)/norm(Q) = 8.09e-02 | t_cpu = 0.00s | ranks_frame =  1 1\n",
      "Iter   13 / 28 | Rel_err= 8.0198e-02 | norm(dres) = 1.2e-05 | norm(Q-Qtilde)/norm(Q) = 8.02e-02 | t_cpu = 0.00s | ranks_frame =  1 1\n",
      "Iter   14 / 28 | Rel_err= 7.9676e-02 | norm(dres) = 8.5e-06 | norm(Q-Qtilde)/norm(Q) = 7.97e-02 | t_cpu = 0.00s | ranks_frame =  1 1\n",
      "Iter   15 / 28 | Rel_err= 7.9293e-02 | norm(dres) = 6.3e-06 | norm(Q-Qtilde)/norm(Q) = 7.93e-02 | t_cpu = 0.00s | ranks_frame =  1 1\n",
      "Iter   16 / 28 | Rel_err= 7.9001e-02 | norm(dres) = 4.8e-06 | norm(Q-Qtilde)/norm(Q) = 7.90e-02 | t_cpu = 0.00s | ranks_frame =  1 1\n",
      "Iter   17 / 28 | Rel_err= 7.8775e-02 | norm(dres) = 3.7e-06 | norm(Q-Qtilde)/norm(Q) = 7.88e-02 | t_cpu = 0.00s | ranks_frame =  1 1\n",
      "Iter   18 / 28 | Rel_err= 7.8596e-02 | norm(dres) = 2.9e-06 | norm(Q-Qtilde)/norm(Q) = 7.86e-02 | t_cpu = 0.00s | ranks_frame =  1 1\n",
      "Iter   19 / 28 | Rel_err= 7.8453e-02 | norm(dres) = 2.3e-06 | norm(Q-Qtilde)/norm(Q) = 7.85e-02 | t_cpu = 0.00s | ranks_frame =  1 1\n",
      "Iter   20 / 28 | Rel_err= 7.8337e-02 | norm(dres) = 1.9e-06 | norm(Q-Qtilde)/norm(Q) = 7.83e-02 | t_cpu = 0.00s | ranks_frame =  1 1\n",
      "Iter   21 / 28 | Rel_err= 7.8241e-02 | norm(dres) = 1.6e-06 | norm(Q-Qtilde)/norm(Q) = 7.82e-02 | t_cpu = 0.00s | ranks_frame =  1 1\n",
      "Iter   22 / 28 | Rel_err= 7.8161e-02 | norm(dres) = 1.3e-06 | norm(Q-Qtilde)/norm(Q) = 7.82e-02 | t_cpu = 0.00s | ranks_frame =  1 1\n",
      "Iter   23 / 28 | Rel_err= 7.8094e-02 | norm(dres) = 1.1e-06 | norm(Q-Qtilde)/norm(Q) = 7.81e-02 | t_cpu = 0.00s | ranks_frame =  1 1\n",
      "Iter   24 / 28 | Rel_err= 7.8037e-02 | norm(dres) = 9.4e-07 | norm(Q-Qtilde)/norm(Q) = 7.80e-02 | t_cpu = 0.00s | ranks_frame =  1 1\n",
      "Iter   25 / 28 | Rel_err= 7.7987e-02 | norm(dres) = 8.2e-07 | norm(Q-Qtilde)/norm(Q) = 7.80e-02 | t_cpu = 0.00s | ranks_frame =  1 1\n",
      "Iter   26 / 28 | Rel_err= 7.7943e-02 | norm(dres) = 7.2e-07 | norm(Q-Qtilde)/norm(Q) = 7.79e-02 | t_cpu = 0.00s | ranks_frame =  1 1\n",
      "Iter   27 / 28 | Rel_err= 7.7904e-02 | norm(dres) = 6.3e-07 | norm(Q-Qtilde)/norm(Q) = 7.79e-02 | t_cpu = 0.00s | ranks_frame =  1 1\n",
      "Iter   28 / 28 | Rel_err= 7.7870e-02 | norm(dres) = 5.7e-07 | norm(Q-Qtilde)/norm(Q) = 7.79e-02 | t_cpu = 0.00s | ranks_frame =  1 1\n",
      "CPU time in total:  3.092341423034668\n"
     ]
    }
   ],
   "source": [
    "# Call the ALM method\n",
    "if METHOD == \"ALM\":\n",
    "    param_alm = mu0  # adjust for case\n",
    "elif METHOD == \"BFB\":\n",
    "    myparams.lambda_s = 0.3  # adjust for case\n",
    "elif METHOD == \"JFB\":\n",
    "    myparams.lambda_s = 0.4  # adjust for case\n",
    "ret = shifted_POD(Q, transfos, [1, 1], myparams, METHOD, param_alm, [T1Q1, T2Q2])"
   ]
  },
  {
   "cell_type": "code",
   "execution_count": 27,
   "id": "2f902a25",
   "metadata": {},
   "outputs": [],
   "source": [
    "sPOD_frames, qtilde, rel_err = ret.frames, ret.data_approx, ret.rel_err_hist\n",
    "qf = [\n",
    "    np.squeeze(np.reshape(transfo.apply(frame.build_field()), data_shape))\n",
    "    for transfo, frame in zip(transfos, sPOD_frames)\n",
    "]"
   ]
  },
  {
   "cell_type": "code",
   "execution_count": 28,
   "id": "eb4bb7e0",
   "metadata": {},
   "outputs": [
    {
     "data": {
      "text/plain": [
       "<matplotlib.colorbar.Colorbar at 0x15f78eb80>"
      ]
     },
     "execution_count": 28,
     "metadata": {},
     "output_type": "execute_result"
    },
    {
     "data": {
      "image/png": "[encoded data removed]",
      "text/plain": [
       "<Figure size 1440x432 with 5 Axes>"
      ]
     },
     "metadata": {
      "needs_background": "light"
     },
     "output_type": "display_data"
    }
   ],
   "source": [
    "# %% 1. visualize your results: sPOD frames\n",
    "############################################\n",
    "\n",
    "fig, axs = plt.subplots(1, 4, figsize=(20, 6))\n",
    "vmin = np.min(Q)\n",
    "vmax = np.max(Q)\n",
    "\n",
    "axs[0].pcolormesh(X.T, T.T, Q, vmin=vmin, vmax=vmax)\n",
    "axs[0].set_title(r\"${\\mathbf{Q}}$\")\n",
    "axs[0].set_xlabel(\"x\")\n",
    "axs[0].set_ylabel(\"t\")\n",
    "axs[0].set_xticks([])\n",
    "axs[0].set_yticks([])\n",
    "\n",
    "#Qtilde\n",
    "axs[1].pcolormesh(X.T, T.T, qtilde, vmin=vmin, vmax=vmax)\n",
    "axs[1].set_title(r\"$\\tilde{\\mathbf{Q}}$\")\n",
    "axs[1].set_xlabel(\"x\")\n",
    "axs[1].set_ylabel(\"t\")\n",
    "axs[1].set_xticks([])\n",
    "axs[1].set_yticks([])\n",
    "\n",
    "# f^1\n",
    "axs[2].pcolormesh(X.T, T.T, qf[0], vmin=vmin)\n",
    "axs[2].set_title(r\"$\\mathcal{T}^1\\mathbf{Q}^1$\")\n",
    "axs[2].set_xlabel(\"x\")\n",
    "axs[2].set_ylabel(\"t\")\n",
    "axs[2].set_xticks([])\n",
    "axs[2].set_yticks([])\n",
    "\n",
    "# f^2\n",
    "cax3 = axs[3].pcolormesh(X.T, T.T, qf[1], vmin=vmin, vmax=vmax)\n",
    "axs[3].set_title(r\"$\\mathcal{T}^2\\mathbf{Q}^2$\")\n",
    "axs[3].set_xlabel(\"x\")\n",
    "axs[3].set_ylabel(\"t\")\n",
    "axs[3].set_xticks([])\n",
    "axs[3].set_yticks([])\n",
    "\n",
    "plt.colorbar(cax3, ax=axs.ravel().tolist(), orientation='vertical')"
   ]
  },
  {
   "cell_type": "code",
   "execution_count": 29,
   "id": "30b7d1b7",
   "metadata": {},
   "outputs": [],
   "source": [
    "fig.savefig(immpath + \"sPOD-result\", dpi=300, transparent=True)"
   ]
  },
  {
   "cell_type": "code",
   "execution_count": 30,
   "id": "8c0e5cbc",
   "metadata": {},
   "outputs": [],
   "source": [
    "save_fig(filepath=immpath + \"sPOD-result-crossing_waves_sine_amplitude\", figure=fig)"
   ]
  }
 ],
 "metadata": {
  "kernelspec": {
   "display_name": "Python 3 (ipykernel)",
   "language": "python",
   "name": "python3"
  },
  "language_info": {
   "codemirror_mode": {
    "name": "ipython",
    "version": 3
   },
   "file_extension": ".py",
   "mimetype": "text/x-python",
   "name": "python",
   "nbconvert_exporter": "python",
   "pygments_lexer": "ipython3",
   "version": "3.9.10"
  }
 },
 "nbformat": 4,
 "nbformat_minor": 5
}
