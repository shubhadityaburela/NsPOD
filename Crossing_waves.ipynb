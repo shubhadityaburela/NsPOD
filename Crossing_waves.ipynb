{
 "cells": [
  {
   "cell_type": "code",
   "execution_count": 1,
   "id": "6963bf93-a774-4b7f-b0b4-1ee1ca85e16b",
   "metadata": {},
   "outputs": [],
   "source": [
    "import torch\n",
    "import torch.nn as nn\n",
    "import torch.nn.functional as F\n",
    "from numpy import meshgrid\n",
    "import torch.optim as optim\n",
    "from torch.utils.data import TensorDataset, DataLoader, Dataset\n",
    "from torch.autograd import gradcheck\n",
    "from numpy import exp, mod, meshgrid, cos, sin, exp, pi\n",
    "import numpy as np\n",
    "import matplotlib.pyplot as plt\n",
    "from scipy.ndimage import shift\n",
    "from math import sqrt\n",
    "from scipy.sparse import diags\n",
    "from scipy.linalg import cholesky\n",
    "\n",
    "import os\n",
    "impath = \"./data/Crossing_waves/Poly/mac/\"\n",
    "immpath = \"./plots/Crossing_waves/Poly/mac/\"\n",
    "os.makedirs(impath, exist_ok=True)\n",
    "os.makedirs(immpath, exist_ok=True)"
   ]
  },
  {
   "cell_type": "markdown",
   "id": "c06a92b5",
   "metadata": {},
   "source": [
    "# Crossing waves example"
   ]
  },
  {
   "cell_type": "markdown",
   "id": "ad91d999-b9a0-4eb1-87a5-f83d4a535ff3",
   "metadata": {},
   "source": [
    "## Create data for example model"
   ]
  },
  {
   "cell_type": "code",
   "execution_count": 2,
   "id": "091a766a-2477-40bd-8256-2becd7e3f685",
   "metadata": {},
   "outputs": [],
   "source": [
    "Nx, Nt, sigma = 400, 200, 4.0\n",
    "coefficients1 = [0.15,0,0.8,1.5]\n",
    "coefficients2 = [-18,2]\n",
    "seed = 54\n",
    "center_matrix3 = 200"
   ]
  },
  {
   "cell_type": "code",
   "execution_count": 3,
   "id": "beaa849e-2253-4409-a4a7-74dfd079ff4b",
   "metadata": {},
   "outputs": [
    {
     "data": {
      "text/plain": [
       "<torch._C.Generator at 0x108762450>"
      ]
     },
     "execution_count": 3,
     "metadata": {},
     "output_type": "execute_result"
    }
   ],
   "source": [
    "np.random.seed(seed)\n",
    "torch.manual_seed(seed)"
   ]
  },
  {
   "cell_type": "code",
   "execution_count": 4,
   "id": "16fa4e08-6af1-4be7-afdf-342abbd873b6",
   "metadata": {},
   "outputs": [],
   "source": [
    "def generate_data(Nx, Nt, coeff1, coeff2, center1, center2, sigma_slope=0.1, sigma_base=4.0):\n",
    "    sigma = 5.0\n",
    "    x = np.arange(0, Nx)\n",
    "    t = np.linspace(-10,10, Nt)\n",
    "    t_max = np.max(t)\n",
    "    [X, T] = np.meshgrid(x, t)\n",
    "    X = X.T\n",
    "    T = T.T    \n",
    "\n",
    "    def gaussian(x, mu, sigma=1.0):\n",
    "        return np.exp(-np.power(x - mu, 2.0) / (2 * np.power(sigma, 2.0)))\n",
    "\n",
    "    q1 = np.zeros_like(X, dtype=np.float64)\n",
    "    q2 = np.zeros_like(X, dtype=np.float64)\n",
    "    shift1 = np.polyval(coeff1, t)\n",
    "    shift2 = np.polyval(coeff2, t)\n",
    "    for col in range(Nt):\n",
    "        sigma_t = sigma_base \n",
    "        for row in range(Nx):\n",
    "            q1[row, col] = sin(pi * t[col] / t_max) * gaussian(row, center1 + shift1[col], sigma_t)\n",
    "            q2[row, col] = cos(pi * t[col] / t_max) * gaussian(row, center2 + shift2[col], sigma_t)\n",
    "    \n",
    "    Q = q1 + q2\n",
    "    Q /= Q.max()\n",
    "    \n",
    "    return Q, x, t"
   ]
  },
  {
   "cell_type": "code",
   "execution_count": 5,
   "id": "d97099bc-9e3e-4705-b76a-83fa0a616335",
   "metadata": {},
   "outputs": [],
   "source": [
    "Q,x,t = generate_data(Nx, Nt, coefficients1, coefficients2, center_matrix3, center_matrix3, sigma_base=sigma)"
   ]
  },
  {
   "cell_type": "code",
   "execution_count": 6,
   "id": "2e01f6fc-d3ea-432f-89df-e93dc70665bd",
   "metadata": {},
   "outputs": [
    {
     "data": {
      "image/png": "[encoded data removed]",
      "text/plain": [
       "<Figure size 432x288 with 2 Axes>"
      ]
     },
     "metadata": {
      "needs_background": "light"
     },
     "output_type": "display_data"
    }
   ],
   "source": [
    "X, T = np.meshgrid(x, t)\n",
    "\n",
    "plt.pcolormesh(X.T, T.T, Q)\n",
    "plt.colorbar()\n",
    "plt.xlabel('Position ($x_i$)')\n",
    "plt.ylabel('Time ($t_j$)')\n",
    "plt.title('Snapshot Matrix Q')\n",
    "plt.show()"
   ]
  },
  {
   "cell_type": "code",
   "execution_count": 7,
   "id": "4743ba98",
   "metadata": {},
   "outputs": [],
   "source": [
    "def save_fig(filepath, figure=None, **kwargs):\n",
    "    import tikzplotlib\n",
    "    import os\n",
    "    import matplotlib.pyplot as plt\n",
    "\n",
    "    ## split extension\n",
    "    fpath = os.path.splitext(filepath)[0]\n",
    "    ## get figure handle\n",
    "    if figure is None:\n",
    "        figure = plt.gcf()\n",
    "    figure.savefig(fpath + \".png\", dpi=300, transparent=True)\n",
    "    tikzplotlib.save(\n",
    "        figure=figure,\n",
    "        filepath=fpath + \".tex\",\n",
    "        axis_height='\\\\figureheight',\n",
    "        axis_width='\\\\figurewidth',\n",
    "        override_externals=True,\n",
    "        **kwargs\n",
    "    )"
   ]
  },
  {
   "cell_type": "markdown",
   "id": "fa9deb0f-c6ed-4cfc-a618-34dcd83258d6",
   "metadata": {},
   "source": [
    "## Define inputs"
   ]
  },
  {
   "cell_type": "code",
   "execution_count": 8,
   "id": "50e2b140-5375-408f-8558-322cdf889543",
   "metadata": {},
   "outputs": [
    {
     "data": {
      "text/plain": [
       "<torch._C.Generator at 0x108762450>"
      ]
     },
     "execution_count": 8,
     "metadata": {},
     "output_type": "execute_result"
    }
   ],
   "source": [
    "np.random.seed(seed)\n",
    "torch.manual_seed(seed)"
   ]
  },
  {
   "cell_type": "code",
   "execution_count": 9,
   "id": "f5a7ffe7-d523-4462-aa17-128d9c6d5181",
   "metadata": {
    "tags": []
   },
   "outputs": [],
   "source": [
    "inputs = np.stack([x.repeat(Nt), np.tile(t, Nx)], axis=1)\n",
    "inputs_tensor = torch.tensor(inputs, dtype=torch.float32)\n",
    "Q_tensor = torch.tensor(Q)"
   ]
  },
  {
   "cell_type": "markdown",
   "id": "fc760045-a001-4f52-aa11-9ba6604714c6",
   "metadata": {},
   "source": [
    "## Define a model"
   ]
  },
  {
   "cell_type": "code",
   "execution_count": 10,
   "id": "bf5b954e-d310-4638-a310-0013326f60d2",
   "metadata": {},
   "outputs": [],
   "source": [
    "class NuclearNormAutograd(torch.autograd.Function):\n",
    "    @staticmethod\n",
    "    def forward(ctx, input_matrix):\n",
    "        ctx.save_for_backward(input_matrix)\n",
    "        return torch.linalg.matrix_norm(input_matrix, ord=\"nuc\")\n",
    "\n",
    "    @staticmethod\n",
    "    def backward(ctx, grad_output):\n",
    "        input_matrix, = ctx.saved_tensors\n",
    "        u, s, v = torch.svd(input_matrix, some=False)\n",
    "        rank = torch.sum(s > 0).item()\n",
    "        dtype = input_matrix.dtype\n",
    "        eye_approx = torch.diag((s > 0).to(dtype)[:rank])\n",
    "        grad_input = torch.matmul(torch.matmul(u[:, :rank], eye_approx), v[:, :rank].t())\n",
    "        return grad_input * grad_output.unsqueeze(-1).unsqueeze(-1)"
   ]
  },
  {
   "cell_type": "code",
   "execution_count": 11,
   "id": "d18bf8b6-4e12-449f-bf1a-eb8fa332dafc",
   "metadata": {},
   "outputs": [],
   "source": [
    "class ShapeShiftNet(nn.Module):\n",
    "    def __init__(self, p_init_coeffs1, p_init_coeffs2):\n",
    "        super(ShapeShiftNet, self).__init__()\n",
    "        \n",
    "        self.alphas1 = nn.ParameterList(\n",
    "            [nn.Parameter(torch.tensor([coeff], dtype=torch.float32), requires_grad=True) for coeff in p_init_coeffs1]\n",
    "        )\n",
    "        self.alphas2 = nn.ParameterList(\n",
    "            [nn.Parameter(torch.tensor([coeff], dtype=torch.float32), requires_grad=True) for coeff in p_init_coeffs2]\n",
    "        )\n",
    "        \n",
    "        self.elu = nn.ELU()\n",
    "        \n",
    "        # Subnetwork for f^1\n",
    "        self.f1_fc1 = nn.Linear(2, 5)\n",
    "        self.f1_fc2 = nn.Linear(5, 10)\n",
    "        self.f1_fc3 = nn.Linear(10, 5)\n",
    "        self.f1_fc4 = nn.Linear(5, 1)\n",
    "\n",
    "        # Subnetwork for f^2\n",
    "        self.f2_fc1 = nn.Linear(2, 5)\n",
    "        self.f2_fc2 = nn.Linear(5, 10)\n",
    "        self.f2_fc3 = nn.Linear(10, 5)\n",
    "        self.f2_fc4 = nn.Linear(5, 1)\n",
    "        \n",
    "    def forward(self, x, t):\n",
    "        # Pathway for f^1 and shift^1\n",
    "        shift1 = sum([coeff * t**(3-i) for i, coeff in enumerate(self.alphas1)])\n",
    "        \n",
    "        x_shifted1 = x + shift1\n",
    "        f1 = self.elu(self.f1_fc1(torch.cat((x_shifted1, t), dim=1)))\n",
    "        f1 = self.elu(self.f1_fc2(f1))\n",
    "        f1 = self.elu(self.f1_fc3(f1))\n",
    "        f1 = self.f1_fc4(f1)\n",
    "        \n",
    "        f1_without_shift = self.elu(self.f1_fc1(torch.cat((x, t), dim=1)))\n",
    "        f1_without_shift = self.elu(self.f1_fc2(f1_without_shift))\n",
    "        f1_without_shift = self.elu(self.f1_fc3(f1_without_shift))\n",
    "        f1_without_shift = self.f1_fc4(f1_without_shift)\n",
    "        \n",
    "        \n",
    "        # Pathway for f^2 and shift^2\n",
    "        shift2 = sum([coeff * t**(1-i) for i, coeff in enumerate(self.alphas2)])\n",
    "\n",
    "        x_shifted2 = x + shift2\n",
    "        f2 = self.elu(self.f2_fc1(torch.cat((x_shifted2, t), dim=1)))\n",
    "        f2 = self.elu(self.f2_fc2(f2))\n",
    "        f2 = self.elu(self.f2_fc3(f2))\n",
    "        f2 = self.f2_fc4(f2)\n",
    "        \n",
    "        f2_without_shift = self.elu(self.f2_fc1(torch.cat((x, t), dim=1)))\n",
    "        f2_without_shift = self.elu(self.f2_fc2(f2_without_shift))\n",
    "        f2_without_shift = self.elu(self.f2_fc3(f2_without_shift))\n",
    "        f2_without_shift = self.f2_fc4(f2_without_shift)\n",
    "        \n",
    "        return f1, f2, shift1, shift2, f1_without_shift, f2_without_shift"
   ]
  },
  {
   "cell_type": "code",
   "execution_count": 12,
   "id": "3371efde",
   "metadata": {},
   "outputs": [],
   "source": [
    "init_coefficients1 = [0.01, 0, 1, 1]\n",
    "init_coefficients2 = [-1, 1]"
   ]
  },
  {
   "cell_type": "code",
   "execution_count": 13,
   "id": "efb55892-854b-44de-b6fa-0160443e759c",
   "metadata": {},
   "outputs": [],
   "source": [
    "model = ShapeShiftNet(init_coefficients1, init_coefficients2)\n",
    "\n",
    "pretrained_load = True\n",
    "if pretrained_load:\n",
    "    state_dict_original = torch.load(\"./data/Crossing_waves/Poly/seed=54/Crossing_waves.pth\")\n",
    "    state_dict_new = model.state_dict()\n",
    "    \n",
    "    for name, param in state_dict_original.items():\n",
    "        if name in state_dict_new:\n",
    "            state_dict_new[name].copy_(param)\n",
    "    model.load_state_dict(state_dict_new, strict=False)\n",
    "\n",
    "\n",
    "optimizer = optim.Adam(model.parameters(), lr=0.001)"
   ]
  },
  {
   "cell_type": "code",
   "execution_count": 14,
   "id": "3011e406-ac3c-475f-b6c9-25295f2c845a",
   "metadata": {
    "scrolled": true,
    "tags": []
   },
   "outputs": [
    {
     "name": "stdout",
     "output_type": "stream",
     "text": [
      "Epoch 0/0, Frob Loss: 1.3206642130946562, Nuclear Loss: 27.558547973632812, Total loss: 28.879212186727468,Coefficients_1:[0.15, 0, 0.8, 1.5]tensor([-1.4864e-01, -2.6781e-03, -8.9366e-01, -2.4328e+01]), Coefficients_2:[-18, 2]tensor([ 18.0046, -69.0447])\n"
     ]
    }
   ],
   "source": [
    "num_epochs = 0\n",
    "lambda_k = 0.5\n",
    "\n",
    "for epoch in range(num_epochs + 1):\n",
    "    x_flat, t_flat = inputs_tensor[:, 0:1], inputs_tensor[:, 1:2]\n",
    "    optimizer.zero_grad()\n",
    "    f1_full, f2_full, shift1_pred, shift2_pred, f1_full_nos, f2_full_nos = model(x_flat, t_flat)\n",
    "    \n",
    "    frobenius_loss = torch.norm(Q_tensor - f1_full.view(Nx, Nt) - f2_full.view(Nx, Nt), 'fro') ** 2\n",
    "    \n",
    "    nuclear_loss_q1 = NuclearNormAutograd.apply(f1_full_nos.view(Nx, Nt))\n",
    "    nuclear_loss_q2 = NuclearNormAutograd.apply(f2_full_nos.view(Nx, Nt))\n",
    "    nuclear_loss = lambda_k*(nuclear_loss_q1 + nuclear_loss_q2)\n",
    "    \n",
    "    total_loss = frobenius_loss + nuclear_loss\n",
    "\n",
    "    total_loss.backward(retain_graph=True)\n",
    "    optimizer.step()\n",
    "    \n",
    "    shift_coeffs1 = torch.tensor([p.item() for p in model.alphas1])\n",
    "    shift_coeffs2 = torch.tensor([p.item() for p in model.alphas2])\n",
    "\n",
    "    if frobenius_loss < 1:\n",
    "        print(\"Early stopping is triggered\")\n",
    "        break\n",
    "    \n",
    "    if epoch % 100 == 0:\n",
    "        print(\n",
    "            f'Epoch {epoch}/{num_epochs}, Frob Loss: {frobenius_loss.item()}, Nuclear Loss: {nuclear_loss.item()}, Total loss: {total_loss.item()},'\n",
    "            f'Coefficients_1:{[coefficients1[i] for i in range(len(coefficients1))]}{shift_coeffs1}, Coefficients_2:{[coefficients2[i] for i in range(len(coefficients2))]}{shift_coeffs2}')"
   ]
  },
  {
   "cell_type": "code",
   "execution_count": 15,
   "id": "4f62484c-890c-4ca4-9b1b-d99a33eedc44",
   "metadata": {},
   "outputs": [],
   "source": [
    "combined = f1_full + f2_full\n",
    "Q_tilde = combined.view(Nx, Nt).detach().numpy()"
   ]
  },
  {
   "cell_type": "code",
   "execution_count": 16,
   "id": "c2e24626-8eb2-4aa1-86e6-ece12bf68b3e",
   "metadata": {},
   "outputs": [
    {
     "data": {
      "text/plain": [
       "<matplotlib.colorbar.Colorbar at 0x15a15e5e0>"
      ]
     },
     "execution_count": 16,
     "metadata": {},
     "output_type": "execute_result"
    },
    {
     "data": {
      "image/png": "[encoded data removed]",
      "text/plain": [
       "<Figure size 1440x432 with 7 Axes>"
      ]
     },
     "metadata": {
      "needs_background": "light"
     },
     "output_type": "display_data"
    }
   ],
   "source": [
    "fig, axs = plt.subplots(1, 6, figsize=(20, 6))\n",
    "vmin = np.min(Q)\n",
    "vmax = np.max(Q)\n",
    "\n",
    "axs[0].pcolormesh(X.T, T.T, Q, vmin=vmin, vmax=vmax)\n",
    "axs[0].set_title(r\"${\\mathbf{Q}}$\")\n",
    "axs[0].set_xlabel(\"x\")\n",
    "axs[0].set_ylabel(\"t\")\n",
    "axs[0].set_xticks([])\n",
    "axs[0].set_yticks([])\n",
    "\n",
    "#Qtilde\n",
    "axs[1].pcolormesh(X.T, T.T, Q_tilde, vmin=vmin, vmax=vmax)\n",
    "axs[1].set_title(r\"$\\tilde{\\mathbf{Q}}$\")\n",
    "axs[1].set_xlabel(\"x\")\n",
    "axs[1].set_ylabel(\"t\")\n",
    "axs[1].set_xticks([])\n",
    "axs[1].set_yticks([])\n",
    "\n",
    "# f^1\n",
    "axs[2].pcolormesh(X.T, T.T, f1_full.view(Nx, Nt).detach().numpy(), vmin=vmin)\n",
    "axs[2].set_title(r\"$\\mathcal{T}^1\\mathbf{Q}^1$\")\n",
    "axs[2].set_xlabel(\"x\")\n",
    "axs[2].set_ylabel(\"t\")\n",
    "axs[2].set_xticks([])\n",
    "axs[2].set_yticks([])\n",
    "\n",
    "# f^2\n",
    "axs[3].pcolormesh(X.T, T.T, f2_full.view(Nx,Nt).detach().numpy(), vmin=vmin, vmax=vmax)\n",
    "axs[3].set_title(r\"$\\mathcal{T}^2\\mathbf{Q}^2$\")\n",
    "axs[3].set_xlabel(\"x\")\n",
    "axs[3].set_ylabel(\"t\")\n",
    "axs[3].set_xticks([])\n",
    "axs[3].set_yticks([])\n",
    "\n",
    "# f^1\n",
    "axs[4].pcolormesh(X.T, T.T, f1_full_nos.view(Nx,Nt).detach().numpy(), vmin=vmin, vmax=vmax)\n",
    "axs[4].set_title(r\"$\\mathbf{Q}^1$\")\n",
    "axs[4].set_xlabel(\"x\")\n",
    "axs[4].set_ylabel(\"t\")\n",
    "axs[4].set_xticks([])\n",
    "axs[4].set_yticks([])\n",
    "\n",
    "# f^2\n",
    "cax4 = axs[5].pcolormesh(X.T, T.T, f2_full_nos.view(Nx,Nt).detach().numpy(), vmin=vmin, vmax=vmax)\n",
    "axs[5].set_title(r\"$\\mathbf{Q}^2$\")\n",
    "axs[5].set_xlabel(\"x\")\n",
    "axs[5].set_ylabel(\"t\")\n",
    "axs[5].set_xticks([])\n",
    "axs[5].set_yticks([])\n",
    "\n",
    "plt.colorbar(cax4, ax=axs.ravel().tolist(), orientation='vertical')"
   ]
  },
  {
   "cell_type": "code",
   "execution_count": 17,
   "id": "a4ce92f3",
   "metadata": {},
   "outputs": [],
   "source": [
    "save_fig(filepath=immpath + \"Crossing_waves_NN\", figure=fig)"
   ]
  },
  {
   "cell_type": "markdown",
   "id": "6cfde215",
   "metadata": {},
   "source": [
    "## Saving the results"
   ]
  },
  {
   "cell_type": "code",
   "execution_count": 18,
   "id": "5d9bcdbe",
   "metadata": {},
   "outputs": [],
   "source": [
    "torch.save(model.state_dict(), impath + 'Crossing_waves.pth')\n",
    "np.save(impath + 'Q.npy', Q)\n",
    "np.save(impath + 'Q_tilde.npy', Q_tilde)\n",
    "np.save(impath + 'T1Q1.npy', f1_full.view(Nx, Nt).detach().numpy())\n",
    "np.save(impath + 'T2Q2.npy', f2_full.view(Nx, Nt).detach().numpy())\n",
    "np.save(impath + 'Q1.npy', f1_full_nos.view(Nx, Nt).detach().numpy())\n",
    "np.save(impath + 'Q2.npy', f2_full_nos.view(Nx, Nt).detach().numpy())\n",
    "np.save(impath + 'shifts1.npy', shift_coeffs1.detach().numpy()) \n",
    "np.save(impath + 'shifts2.npy', shift_coeffs2.detach().numpy()) "
   ]
  },
  {
   "cell_type": "markdown",
   "id": "946b34a9",
   "metadata": {},
   "source": [
    "# Apply rsPOD taking the results from the above as initial guesses\n"
   ]
  },
  {
   "cell_type": "code",
   "execution_count": 19,
   "id": "e57180ee",
   "metadata": {},
   "outputs": [],
   "source": [
    "import sys\n",
    "\n",
    "sys.path.append(\"./sPOD/lib/\")\n",
    "\n",
    "import numpy as np\n",
    "from numpy import meshgrid\n",
    "import matplotlib.pyplot as plt\n",
    "from sPOD_algo import (\n",
    "    shifted_POD,\n",
    "    sPOD_Param,\n",
    "    give_interpolation_error,\n",
    ")\n",
    "from transforms import Transform\n",
    "from plot_utils import save_fig"
   ]
  },
  {
   "cell_type": "code",
   "execution_count": 20,
   "id": "4dd80548",
   "metadata": {},
   "outputs": [],
   "source": [
    "# Load the data\n",
    "Q = np.load(impath + 'Q.npy')\n",
    "Q_tilde = np.load(impath + 'Q_tilde.npy')\n",
    "T1Q1 = np.load(impath + 'T1Q1.npy')\n",
    "T2Q2 = np.load(impath + 'T2Q2.npy')\n",
    "Q1 = np.load(impath + 'Q1.npy')\n",
    "Q2 = np.load(impath + 'Q2.npy')\n",
    "shifts1 = np.load(impath + 'shifts1.npy')\n",
    "shifts2 = np.load(impath + 'shifts2.npy') "
   ]
  },
  {
   "cell_type": "code",
   "execution_count": 21,
   "id": "98245b13",
   "metadata": {},
   "outputs": [
    {
     "name": "stdout",
     "output_type": "stream",
     "text": [
      "NN prediction error: 3.17e-02 \n"
     ]
    }
   ],
   "source": [
    "err = np.linalg.norm(Q - Q_tilde) / np.linalg.norm(Q)\n",
    "print(\"NN prediction error: %1.2e \" % err)"
   ]
  },
  {
   "cell_type": "code",
   "execution_count": 22,
   "id": "15f08396",
   "metadata": {},
   "outputs": [
    {
     "name": "stdout",
     "output_type": "stream",
     "text": [
      "Setting up the shift matrices, with interpolation order:\n",
      "Forward T^k:     O(h^5)\n",
      "Backward T^(-k): O(h^5)\n",
      "Setting up the shift matrices, with interpolation order:\n",
      "Forward T^k:     O(h^5)\n",
      "Backward T^(-k): O(h^5)\n",
      "interpolation error: 8.80e-02 \n"
     ]
    }
   ],
   "source": [
    "# Prepare the transformations\n",
    "L = x[-1]\n",
    "dx = x[1] - x[0]\n",
    "s1 = np.polyval(shifts1, t)\n",
    "s2 = np.polyval(shifts2, t)\n",
    "\n",
    "data_shape = [Nx, 1, 1, Nt]\n",
    "transfos = [\n",
    "    Transform(data_shape, [L], shifts=s1, dx=[dx], interp_order=5),\n",
    "    Transform(data_shape, [L], shifts=s2, dx=[dx], interp_order=5),\n",
    "]\n",
    "\n",
    "interp_err = np.max([give_interpolation_error(Q, trafo) for trafo in transfos])\n",
    "print(\"interpolation error: %1.2e \" % interp_err)"
   ]
  },
  {
   "cell_type": "code",
   "execution_count": 29,
   "id": "0b986be7",
   "metadata": {},
   "outputs": [],
   "source": [
    "METHOD = \"ALM\"\n",
    "\n",
    "# Parameters\n",
    "mu0 = Nx * Nt / (4 * np.sum(np.abs(Q))) * 0.003\n",
    "lambd0 = 1 / np.sqrt(np.maximum(Nx, Nt))\n",
    "myparams = sPOD_Param()\n",
    "myparams.maxit = 60\n",
    "param_alm = mu0  # adjust for case"
   ]
  },
  {
   "cell_type": "code",
   "execution_count": 30,
   "id": "e6905916",
   "metadata": {
    "scrolled": false
   },
   "outputs": [
    {
     "name": "stdout",
     "output_type": "stream",
     "text": [
      "Iter    1 / 60 | Rel_err= 1.0000e+00 | norm(dres) = 2.5e-02 | norm(Q-Qtilde)/norm(Q) = 1.00e+00 | t_cpu = 0.00s | ranks_frame =  0 0\n",
      "Iter    2 / 60 | Rel_err= 5.8773e-01 | norm(dres) = 1.0e-02 | norm(Q-Qtilde)/norm(Q) = 5.88e-01 | t_cpu = 0.00s | ranks_frame =  1 1\n",
      "Iter    3 / 60 | Rel_err= 1.9402e-01 | norm(dres) = 9.7e-03 | norm(Q-Qtilde)/norm(Q) = 1.94e-01 | t_cpu = 0.00s | ranks_frame =  1 1\n",
      "Iter    4 / 60 | Rel_err= 1.3834e-01 | norm(dres) = 1.4e-03 | norm(Q-Qtilde)/norm(Q) = 1.38e-01 | t_cpu = 0.00s | ranks_frame =  1 1\n",
      "Iter    5 / 60 | Rel_err= 1.1502e-01 | norm(dres) = 5.7e-04 | norm(Q-Qtilde)/norm(Q) = 1.15e-01 | t_cpu = 0.00s | ranks_frame =  1 1\n",
      "Iter    6 / 60 | Rel_err= 1.0348e-01 | norm(dres) = 2.8e-04 | norm(Q-Qtilde)/norm(Q) = 1.03e-01 | t_cpu = 0.00s | ranks_frame =  1 1\n",
      "Iter    7 / 60 | Rel_err= 9.8261e-02 | norm(dres) = 1.3e-04 | norm(Q-Qtilde)/norm(Q) = 9.83e-02 | t_cpu = 0.00s | ranks_frame =  1 1\n",
      "Iter    8 / 60 | Rel_err= 9.5802e-02 | norm(dres) = 6.0e-05 | norm(Q-Qtilde)/norm(Q) = 9.58e-02 | t_cpu = 0.00s | ranks_frame =  1 1\n",
      "Iter    9 / 60 | Rel_err= 9.4500e-02 | norm(dres) = 3.2e-05 | norm(Q-Qtilde)/norm(Q) = 9.45e-02 | t_cpu = 0.00s | ranks_frame =  1 1\n",
      "Iter   10 / 60 | Rel_err= 9.3720e-02 | norm(dres) = 1.9e-05 | norm(Q-Qtilde)/norm(Q) = 9.37e-02 | t_cpu = 0.00s | ranks_frame =  1 1\n",
      "Iter   11 / 60 | Rel_err= 9.3211e-02 | norm(dres) = 1.2e-05 | norm(Q-Qtilde)/norm(Q) = 9.32e-02 | t_cpu = 0.00s | ranks_frame =  1 1\n",
      "Iter   12 / 60 | Rel_err= 9.2865e-02 | norm(dres) = 8.5e-06 | norm(Q-Qtilde)/norm(Q) = 9.29e-02 | t_cpu = 0.00s | ranks_frame =  1 1\n",
      "Iter   13 / 60 | Rel_err= 9.2623e-02 | norm(dres) = 5.9e-06 | norm(Q-Qtilde)/norm(Q) = 9.26e-02 | t_cpu = 0.00s | ranks_frame =  1 1\n",
      "Iter   14 / 60 | Rel_err= 9.2452e-02 | norm(dres) = 4.2e-06 | norm(Q-Qtilde)/norm(Q) = 9.25e-02 | t_cpu = 0.00s | ranks_frame =  1 1\n",
      "Iter   15 / 60 | Rel_err= 8.3987e-02 | norm(dres) = 2.1e-04 | norm(Q-Qtilde)/norm(Q) = 8.40e-02 | t_cpu = 0.00s | ranks_frame =  2 1\n",
      "Iter   16 / 60 | Rel_err= 6.2931e-02 | norm(dres) = 5.2e-04 | norm(Q-Qtilde)/norm(Q) = 6.29e-02 | t_cpu = 0.00s | ranks_frame =  2 1\n",
      "Iter   17 / 60 | Rel_err= 6.1844e-02 | norm(dres) = 2.7e-05 | norm(Q-Qtilde)/norm(Q) = 6.18e-02 | t_cpu = 0.00s | ranks_frame =  2 1\n",
      "Iter   18 / 60 | Rel_err= 6.1132e-02 | norm(dres) = 1.7e-05 | norm(Q-Qtilde)/norm(Q) = 6.11e-02 | t_cpu = 0.00s | ranks_frame =  2 1\n",
      "Iter   19 / 60 | Rel_err= 6.0645e-02 | norm(dres) = 1.2e-05 | norm(Q-Qtilde)/norm(Q) = 6.06e-02 | t_cpu = 0.00s | ranks_frame =  2 1\n",
      "Iter   20 / 60 | Rel_err= 2.9947e-02 | norm(dres) = 7.5e-04 | norm(Q-Qtilde)/norm(Q) = 2.99e-02 | t_cpu = 0.00s | ranks_frame =  2 2\n",
      "Iter   21 / 60 | Rel_err= 2.6247e-02 | norm(dres) = 9.1e-05 | norm(Q-Qtilde)/norm(Q) = 2.62e-02 | t_cpu = 0.00s | ranks_frame =  2 2\n",
      "Iter   22 / 60 | Rel_err= 2.4381e-02 | norm(dres) = 4.6e-05 | norm(Q-Qtilde)/norm(Q) = 2.44e-02 | t_cpu = 0.00s | ranks_frame =  2 2\n",
      "Iter   23 / 60 | Rel_err= 2.2775e-02 | norm(dres) = 3.9e-05 | norm(Q-Qtilde)/norm(Q) = 2.28e-02 | t_cpu = 0.00s | ranks_frame =  2 2\n",
      "Iter   24 / 60 | Rel_err= 2.1349e-02 | norm(dres) = 3.5e-05 | norm(Q-Qtilde)/norm(Q) = 2.13e-02 | t_cpu = 0.00s | ranks_frame =  2 2\n",
      "Iter   25 / 60 | Rel_err= 2.0080e-02 | norm(dres) = 3.1e-05 | norm(Q-Qtilde)/norm(Q) = 2.01e-02 | t_cpu = 0.00s | ranks_frame =  2 2\n",
      "Iter   26 / 60 | Rel_err= 1.8940e-02 | norm(dres) = 2.8e-05 | norm(Q-Qtilde)/norm(Q) = 1.89e-02 | t_cpu = 0.00s | ranks_frame =  2 2\n",
      "Iter   27 / 60 | Rel_err= 1.7908e-02 | norm(dres) = 2.5e-05 | norm(Q-Qtilde)/norm(Q) = 1.79e-02 | t_cpu = 0.00s | ranks_frame =  2 2\n",
      "Iter   28 / 60 | Rel_err= 1.6967e-02 | norm(dres) = 2.3e-05 | norm(Q-Qtilde)/norm(Q) = 1.70e-02 | t_cpu = 0.00s | ranks_frame =  2 2\n",
      "Iter   29 / 60 | Rel_err= 1.6106e-02 | norm(dres) = 2.1e-05 | norm(Q-Qtilde)/norm(Q) = 1.61e-02 | t_cpu = 0.00s | ranks_frame =  2 2\n",
      "Iter   30 / 60 | Rel_err= 1.5315e-02 | norm(dres) = 1.9e-05 | norm(Q-Qtilde)/norm(Q) = 1.53e-02 | t_cpu = 0.00s | ranks_frame =  2 2\n",
      "Iter   31 / 60 | Rel_err= 1.4584e-02 | norm(dres) = 1.8e-05 | norm(Q-Qtilde)/norm(Q) = 1.46e-02 | t_cpu = 0.00s | ranks_frame =  2 2\n",
      "Iter   32 / 60 | Rel_err= 1.3909e-02 | norm(dres) = 1.7e-05 | norm(Q-Qtilde)/norm(Q) = 1.39e-02 | t_cpu = 0.00s | ranks_frame =  2 2\n",
      "Iter   33 / 60 | Rel_err= 1.3283e-02 | norm(dres) = 1.5e-05 | norm(Q-Qtilde)/norm(Q) = 1.33e-02 | t_cpu = 0.00s | ranks_frame =  2 2\n",
      "Iter   34 / 60 | Rel_err= 1.2703e-02 | norm(dres) = 1.4e-05 | norm(Q-Qtilde)/norm(Q) = 1.27e-02 | t_cpu = 0.00s | ranks_frame =  2 2\n",
      "Iter   35 / 60 | Rel_err= 1.2163e-02 | norm(dres) = 1.3e-05 | norm(Q-Qtilde)/norm(Q) = 1.22e-02 | t_cpu = 0.00s | ranks_frame =  2 2\n",
      "Iter   36 / 60 | Rel_err= 1.1662e-02 | norm(dres) = 1.2e-05 | norm(Q-Qtilde)/norm(Q) = 1.17e-02 | t_cpu = 0.00s | ranks_frame =  2 2\n",
      "Iter   37 / 60 | Rel_err= 1.1195e-02 | norm(dres) = 1.1e-05 | norm(Q-Qtilde)/norm(Q) = 1.12e-02 | t_cpu = 0.00s | ranks_frame =  2 2\n",
      "Iter   38 / 60 | Rel_err= 1.0761e-02 | norm(dres) = 1.1e-05 | norm(Q-Qtilde)/norm(Q) = 1.08e-02 | t_cpu = 0.00s | ranks_frame =  2 2\n",
      "Iter   39 / 60 | Rel_err= 1.0357e-02 | norm(dres) = 9.9e-06 | norm(Q-Qtilde)/norm(Q) = 1.04e-02 | t_cpu = 0.00s | ranks_frame =  2 2\n",
      "Iter   40 / 60 | Rel_err= 9.9809e-03 | norm(dres) = 9.2e-06 | norm(Q-Qtilde)/norm(Q) = 9.98e-03 | t_cpu = 0.00s | ranks_frame =  2 2\n",
      "Iter   41 / 60 | Rel_err= 9.6310e-03 | norm(dres) = 8.6e-06 | norm(Q-Qtilde)/norm(Q) = 9.63e-03 | t_cpu = 0.00s | ranks_frame =  2 2\n",
      "Iter   42 / 60 | Rel_err= 9.3053e-03 | norm(dres) = 8.0e-06 | norm(Q-Qtilde)/norm(Q) = 9.31e-03 | t_cpu = 0.00s | ranks_frame =  2 2\n",
      "Iter   43 / 60 | Rel_err= 9.0024e-03 | norm(dres) = 7.4e-06 | norm(Q-Qtilde)/norm(Q) = 9.00e-03 | t_cpu = 0.00s | ranks_frame =  2 2\n",
      "Iter   44 / 60 | Rel_err= 8.7206e-03 | norm(dres) = 6.9e-06 | norm(Q-Qtilde)/norm(Q) = 8.72e-03 | t_cpu = 0.00s | ranks_frame =  2 2\n",
      "Iter   45 / 60 | Rel_err= 8.4587e-03 | norm(dres) = 6.4e-06 | norm(Q-Qtilde)/norm(Q) = 8.46e-03 | t_cpu = 0.00s | ranks_frame =  2 2\n",
      "Iter   46 / 60 | Rel_err= 8.2152e-03 | norm(dres) = 6.0e-06 | norm(Q-Qtilde)/norm(Q) = 8.22e-03 | t_cpu = 0.00s | ranks_frame =  2 2\n",
      "Iter   47 / 60 | Rel_err= 7.9889e-03 | norm(dres) = 5.6e-06 | norm(Q-Qtilde)/norm(Q) = 7.99e-03 | t_cpu = 0.00s | ranks_frame =  2 2\n",
      "Iter   48 / 60 | Rel_err= 7.7789e-03 | norm(dres) = 5.2e-06 | norm(Q-Qtilde)/norm(Q) = 7.78e-03 | t_cpu = 0.00s | ranks_frame =  2 2\n",
      "Iter   49 / 60 | Rel_err= 7.5841e-03 | norm(dres) = 4.8e-06 | norm(Q-Qtilde)/norm(Q) = 7.58e-03 | t_cpu = 0.00s | ranks_frame =  2 2\n",
      "Iter   50 / 60 | Rel_err= 7.4036e-03 | norm(dres) = 4.4e-06 | norm(Q-Qtilde)/norm(Q) = 7.40e-03 | t_cpu = 0.00s | ranks_frame =  2 2\n",
      "Iter   51 / 60 | Rel_err= 7.2367e-03 | norm(dres) = 4.1e-06 | norm(Q-Qtilde)/norm(Q) = 7.24e-03 | t_cpu = 0.00s | ranks_frame =  2 2\n",
      "Iter   52 / 60 | Rel_err= 7.0827e-03 | norm(dres) = 3.8e-06 | norm(Q-Qtilde)/norm(Q) = 7.08e-03 | t_cpu = 0.00s | ranks_frame =  2 2\n",
      "Iter   53 / 60 | Rel_err= 6.9415e-03 | norm(dres) = 3.5e-06 | norm(Q-Qtilde)/norm(Q) = 6.94e-03 | t_cpu = 0.00s | ranks_frame =  2 2\n",
      "Iter   54 / 60 | Rel_err= 6.8127e-03 | norm(dres) = 3.2e-06 | norm(Q-Qtilde)/norm(Q) = 6.81e-03 | t_cpu = 0.00s | ranks_frame =  2 2\n",
      "Iter   55 / 60 | Rel_err= 6.6968e-03 | norm(dres) = 2.8e-06 | norm(Q-Qtilde)/norm(Q) = 6.70e-03 | t_cpu = 0.00s | ranks_frame =  2 2\n",
      "Iter   56 / 60 | Rel_err= 6.5945e-03 | norm(dres) = 2.5e-06 | norm(Q-Qtilde)/norm(Q) = 6.59e-03 | t_cpu = 0.00s | ranks_frame =  2 2\n",
      "Iter   57 / 60 | Rel_err= 6.5073e-03 | norm(dres) = 2.1e-06 | norm(Q-Qtilde)/norm(Q) = 6.51e-03 | t_cpu = 0.00s | ranks_frame =  2 2\n",
      "Iter   58 / 60 | Rel_err= 6.4376e-03 | norm(dres) = 1.7e-06 | norm(Q-Qtilde)/norm(Q) = 6.44e-03 | t_cpu = 0.00s | ranks_frame =  2 2\n",
      "Iter   59 / 60 | Rel_err= 6.3891e-03 | norm(dres) = 1.2e-06 | norm(Q-Qtilde)/norm(Q) = 6.39e-03 | t_cpu = 0.00s | ranks_frame =  2 2\n",
      "Iter   60 / 60 | Rel_err= 6.3674e-03 | norm(dres) = 5.3e-07 | norm(Q-Qtilde)/norm(Q) = 6.37e-03 | t_cpu = 0.00s | ranks_frame =  2 2\n",
      "CPU time in total:  3.305387258529663\n"
     ]
    }
   ],
   "source": [
    "# Call the ALM method\n",
    "ret = shifted_POD(Q, transfos, [1, 1], myparams, METHOD, param_alm, [T1Q1, T2Q2])"
   ]
  },
  {
   "cell_type": "code",
   "execution_count": 31,
   "id": "2f902a25",
   "metadata": {},
   "outputs": [],
   "source": [
    "sPOD_frames, qtilde, rel_err = ret.frames, ret.data_approx, ret.rel_err_hist\n",
    "qf = [\n",
    "    np.squeeze(np.reshape(transfo.apply(frame.build_field()), data_shape))\n",
    "    for transfo, frame in zip(transfos, sPOD_frames)\n",
    "]\n",
    "qf_low = [\n",
    "    np.squeeze(np.reshape(frame.build_field(), data_shape))\n",
    "    for transfo, frame in zip(transfos, sPOD_frames)\n",
    "]"
   ]
  },
  {
   "cell_type": "code",
   "execution_count": 33,
   "id": "eb4bb7e0",
   "metadata": {},
   "outputs": [
    {
     "data": {
      "text/plain": [
       "<matplotlib.colorbar.Colorbar at 0x308b99610>"
      ]
     },
     "execution_count": 33,
     "metadata": {},
     "output_type": "execute_result"
    },
    {
     "data": {
      "image/png": "[encoded data removed]",
      "text/plain": [
       "<Figure size 1440x432 with 7 Axes>"
      ]
     },
     "metadata": {
      "needs_background": "light"
     },
     "output_type": "display_data"
    }
   ],
   "source": [
    "# %% 1. visualize your results: sPOD frames\n",
    "############################################\n",
    "\n",
    "fig, axs = plt.subplots(1, 6, figsize=(20, 6))\n",
    "vmin = np.min(Q)\n",
    "vmax = np.max(Q)\n",
    "\n",
    "axs[0].pcolormesh(X.T, T.T, Q, vmin=vmin, vmax=vmax)\n",
    "axs[0].set_title(r\"${\\mathbf{Q}}$\")\n",
    "axs[0].set_xlabel(\"x\")\n",
    "axs[0].set_ylabel(\"t\")\n",
    "axs[0].set_xticks([])\n",
    "axs[0].set_yticks([])\n",
    "\n",
    "#Qtilde\n",
    "axs[1].pcolormesh(X.T, T.T, qtilde, vmin=vmin, vmax=vmax)\n",
    "axs[1].set_title(r\"$\\tilde{\\mathbf{Q}}$\")\n",
    "axs[1].set_xlabel(\"x\")\n",
    "axs[1].set_ylabel(\"t\")\n",
    "axs[1].set_xticks([])\n",
    "axs[1].set_yticks([])\n",
    "\n",
    "# f^1\n",
    "axs[2].pcolormesh(X.T, T.T, qf[0], vmin=vmin)\n",
    "axs[2].set_title(r\"$\\mathcal{T}^1\\mathbf{Q}^1$\")\n",
    "axs[2].set_xlabel(\"x\")\n",
    "axs[2].set_ylabel(\"t\")\n",
    "axs[2].set_xticks([])\n",
    "axs[2].set_yticks([])\n",
    "\n",
    "# f^2\n",
    "axs[3].pcolormesh(X.T, T.T, qf[1], vmin=vmin, vmax=vmax)\n",
    "axs[3].set_title(r\"$\\mathcal{T}^2\\mathbf{Q}^2$\")\n",
    "axs[3].set_xlabel(\"x\")\n",
    "axs[3].set_ylabel(\"t\")\n",
    "axs[3].set_xticks([])\n",
    "axs[3].set_yticks([])\n",
    "\n",
    "# f^1\n",
    "axs[4].pcolormesh(X.T, T.T, qf_low[0], vmin=vmin, vmax=vmax)\n",
    "axs[4].set_title(r\"$\\mathbf{Q}^1$\")\n",
    "axs[4].set_xlabel(\"x\")\n",
    "axs[4].set_ylabel(\"t\")\n",
    "axs[4].set_xticks([])\n",
    "axs[4].set_yticks([])\n",
    "\n",
    "# f^2\n",
    "cax4 = axs[5].pcolormesh(X.T, T.T, qf_low[1], vmin=vmin, vmax=vmax)\n",
    "axs[5].set_title(r\"$\\mathbf{Q}^2$\")\n",
    "axs[5].set_xlabel(\"x\")\n",
    "axs[5].set_ylabel(\"t\")\n",
    "axs[5].set_xticks([])\n",
    "axs[5].set_yticks([])\n",
    "\n",
    "plt.colorbar(cax4, ax=axs.ravel().tolist(), orientation='vertical')"
   ]
  },
  {
   "cell_type": "code",
   "execution_count": 34,
   "id": "30b7d1b7",
   "metadata": {},
   "outputs": [],
   "source": [
    "save_fig(filepath=immpath + \"Crossing_waves_sPOD\", figure=fig)"
   ]
  },
  {
   "cell_type": "code",
   "execution_count": null,
   "id": "c10a24d2",
   "metadata": {},
   "outputs": [],
   "source": []
  }
 ],
 "metadata": {
  "kernelspec": {
   "display_name": "Python 3 (ipykernel)",
   "language": "python",
   "name": "python3"
  },
  "language_info": {
   "codemirror_mode": {
    "name": "ipython",
    "version": 3
   },
   "file_extension": ".py",
   "mimetype": "text/x-python",
   "name": "python",
   "nbconvert_exporter": "python",
   "pygments_lexer": "ipython3",
   "version": "3.9.10"
  }
 },
 "nbformat": 4,
 "nbformat_minor": 5
}
